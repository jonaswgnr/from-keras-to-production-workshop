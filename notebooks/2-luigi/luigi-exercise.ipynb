{
 "cells": [
  {
   "cell_type": "markdown",
   "metadata": {},
   "source": [
    "# Luigi Classification Pipeline"
   ]
  },
  {
   "cell_type": "markdown",
   "metadata": {},
   "source": [
    "We will build a small Luigi pipeline in order to get started. The task is to classify images into either *lemons* or *bananas*.\n",
    "\n",
    "Write 3 task:\n",
    "\n",
    "1. Check for daily data\n",
    "1. Preprocess images (convert to grayscale, resize to (100, 100))\n",
    "1. Classify image and write the results into a JSON-File"
   ]
  },
  {
   "cell_type": "markdown",
   "metadata": {},
   "source": [
    "## Hints and Tricks for openCV\n",
    "\n",
    "Read an image from disk:\n",
    "```python\n",
    "img = cv2.imread(\"path\", cv2.IMREAD_COLOR)\n",
    "```\n",
    "\n",
    "Resize an image:\n",
    "```python\n",
    "img = cv2.resize(img, (X_SIZE,Y_SIZE))\n",
    "```\n",
    "\n",
    "Convert image to grayscale:\n",
    "```python\n",
    "img = cv2.cvtColor(img, cv2.COLOR_BGR2GRAY)\n",
    "```\n",
    "\n",
    "Write an image to disk:\n",
    "```python\n",
    "cv2.imwrite(\"path\", img)\n",
    "```\n",
    "\n",
    "Find circles to identify lemons:\n",
    "```python\n",
    "circles = cv2.HoughCircles(img, \n",
    "                           cv2.HOUGH_GRADIENT,\n",
    "                           dp=2, \n",
    "                           minDist=15, \n",
    "                           param1=100, \n",
    "                           param2=70)\n",
    "```"
   ]
  },
  {
   "cell_type": "markdown",
   "metadata": {},
   "source": [
    "## Imports"
   ]
  },
  {
   "cell_type": "code",
   "execution_count": 3,
   "metadata": {},
   "outputs": [],
   "source": [
    "import json\n",
    "from datetime import date\n",
    "import luigi\n",
    "from luigi.parameter import DateParameter\n",
    "from luigi import LocalTarget, Task, WrapperTask\n",
    "from luigi.tools.range import RangeDailyBase\n",
    "import cv2"
   ]
  },
  {
   "cell_type": "markdown",
   "metadata": {},
   "source": [
    "## Task 1: Check for daily data"
   ]
  },
  {
   "cell_type": "code",
   "execution_count": 89,
   "metadata": {},
   "outputs": [],
   "source": [
    "class CheckDailyData(Task):\n",
    "    date = DateParameter(default=date.today())\n",
    "    \n",
    "    def output(self):\n",
    "        return LocalTarget(\"exercise-dataset/daily/\" + str(self.date.strftime(\"%m-%d-%Y\")) + \"/image.jpg\")"
   ]
  },
  {
   "cell_type": "code",
   "execution_count": 90,
   "metadata": {},
   "outputs": [
    {
     "name": "stderr",
     "output_type": "stream",
     "text": [
      "DEBUG: Checking if CheckDailyData(date=2018-02-19) is complete\n",
      "INFO: Informed scheduler that task   CheckDailyData_2018_02_19_999079b9db   has status   DONE\n",
      "INFO: Done scheduling tasks\n",
      "INFO: Running Worker with 1 processes\n",
      "DEBUG: Asking scheduler for work...\n",
      "DEBUG: Done\n",
      "DEBUG: There are no more tasks to run at this time\n",
      "INFO: Worker Worker(salt=425649058, workers=1, host=a9569b3a5016, username=root, pid=466) was stopped. Shutting down Keep-Alive thread\n",
      "INFO: \n",
      "===== Luigi Execution Summary =====\n",
      "\n",
      "Scheduled 1 tasks of which:\n",
      "* 1 complete ones were encountered:\n",
      "    - 1 CheckDailyData(date=2018-02-19)\n",
      "\n",
      "Did not run any tasks\n",
      "This progress looks :) because there were no failed tasks or missing dependencies\n",
      "\n",
      "===== Luigi Execution Summary =====\n",
      "\n"
     ]
    },
    {
     "data": {
      "text/plain": [
       "True"
      ]
     },
     "execution_count": 90,
     "metadata": {},
     "output_type": "execute_result"
    }
   ],
   "source": [
    "luigi.build([CheckDailyData(date(2018,2,19))], local_scheduler=True, no_lock=True)"
   ]
  },
  {
   "cell_type": "markdown",
   "metadata": {},
   "source": [
    "## Task 2: Preprocess input image"
   ]
  },
  {
   "cell_type": "code",
   "execution_count": 125,
   "metadata": {},
   "outputs": [],
   "source": [
    "class Preprocess(Task):\n",
    "    date = date(2018,2,19)\n",
    "    dailyImage = CheckDailyData(date)\n",
    "    preprocessedImage = \"exercise-dataset/daily/\" + str(date.strftime(\"%m-%d-%Y\")) + \"/preprocessed.jpg\"\n",
    "    \n",
    "    def requires(self):\n",
    "        return self.dailyImage\n",
    "\n",
    "    def output(self):\n",
    "        return LocalTarget(self.preprocessedImage)\n",
    "\n",
    "    def run(self):\n",
    "        img = cv2.imread(self.input().path, cv2.IMREAD_COLOR)\n",
    "        img = cv2.cvtColor(img, cv2.COLOR_BGR2GRAY)\n",
    "        img = cv2.resize(img, (100,100))\n",
    "        cv2.imwrite(self.output().path, img)"
   ]
  },
  {
   "cell_type": "code",
   "execution_count": 126,
   "metadata": {},
   "outputs": [
    {
     "name": "stderr",
     "output_type": "stream",
     "text": [
      "DEBUG: Checking if Preprocess() is complete\n",
      "DEBUG: Checking if CheckDailyData(date=2018-02-19) is complete\n",
      "INFO: Informed scheduler that task   Preprocess__99914b932b   has status   PENDING\n",
      "INFO: Informed scheduler that task   CheckDailyData_2018_02_19_999079b9db   has status   DONE\n",
      "INFO: Done scheduling tasks\n",
      "INFO: Running Worker with 1 processes\n",
      "DEBUG: Asking scheduler for work...\n",
      "DEBUG: Pending tasks: 1\n",
      "INFO: [pid 466] Worker Worker(salt=188124165, workers=1, host=a9569b3a5016, username=root, pid=466) running   Preprocess()\n",
      "INFO: [pid 466] Worker Worker(salt=188124165, workers=1, host=a9569b3a5016, username=root, pid=466) done      Preprocess()\n",
      "DEBUG: 1 running tasks, waiting for next task to finish\n",
      "INFO: Informed scheduler that task   Preprocess__99914b932b   has status   DONE\n",
      "DEBUG: Asking scheduler for work...\n",
      "DEBUG: Done\n",
      "DEBUG: There are no more tasks to run at this time\n",
      "INFO: Worker Worker(salt=188124165, workers=1, host=a9569b3a5016, username=root, pid=466) was stopped. Shutting down Keep-Alive thread\n",
      "INFO: \n",
      "===== Luigi Execution Summary =====\n",
      "\n",
      "Scheduled 2 tasks of which:\n",
      "* 1 complete ones were encountered:\n",
      "    - 1 CheckDailyData(date=2018-02-19)\n",
      "* 1 ran successfully:\n",
      "    - 1 Preprocess()\n",
      "\n",
      "This progress looks :) because there were no failed tasks or missing dependencies\n",
      "\n",
      "===== Luigi Execution Summary =====\n",
      "\n"
     ]
    },
    {
     "data": {
      "text/plain": [
       "True"
      ]
     },
     "execution_count": 126,
     "metadata": {},
     "output_type": "execute_result"
    }
   ],
   "source": [
    "luigi.build([Preprocess()], local_scheduler=True, no_lock=True)"
   ]
  },
  {
   "cell_type": "markdown",
   "metadata": {},
   "source": [
    "## Classify image"
   ]
  },
  {
   "cell_type": "code",
   "execution_count": 132,
   "metadata": {},
   "outputs": [],
   "source": [
    "class Classify(Task):\n",
    "    \n",
    "    def requires(self):\n",
    "        return Preprocess()\n",
    "    \n",
    "    def run(self):\n",
    "        img = cv2.imread(self.input().path, cv2.IMREAD_COLOR)\n",
    "        circles = cv2.HoughCircles(img, \n",
    "                           cv2.HOUGH_GRADIENT,\n",
    "                           dp=2, \n",
    "                           minDist=15, \n",
    "                           param1=100, \n",
    "                           param2=70)\n",
    "        if circles is None:\n",
    "            fruit=\"banana\"\n",
    "        else:\n",
    "            fruit=\"lemon\"\n",
    "            \n",
    "        json.dump\n",
    "    \n",
    "    def output(self):\n",
    "        return self.circles"
   ]
  },
  {
   "cell_type": "markdown",
   "metadata": {},
   "source": [
    "## Run the pipeline"
   ]
  },
  {
   "cell_type": "code",
   "execution_count": 133,
   "metadata": {},
   "outputs": [
    {
     "name": "stderr",
     "output_type": "stream",
     "text": [
      "DEBUG: Checking if Classify() is complete\n",
      "WARNING: Will not run Classify() or any dependencies due to error in complete() method:\n",
      "Traceback (most recent call last):\n",
      "  File \"/usr/local/lib/python3.6/site-packages/luigi/worker.py\", line 401, in check_complete\n",
      "    is_complete = task.complete()\n",
      "  File \"/usr/local/lib/python3.6/site-packages/luigi/task.py\", line 565, in complete\n",
      "    outputs = flatten(self.output())\n",
      "  File \"<ipython-input-132-f2f2d90058e0>\", line 16, in output\n",
      "    return self.circles\n",
      "AttributeError: 'Classify' object has no attribute 'circles'\n",
      "\n",
      "INFO: Informed scheduler that task   Classify__99914b932b   has status   UNKNOWN\n",
      "INFO: Done scheduling tasks\n",
      "INFO: Running Worker with 1 processes\n",
      "DEBUG: Asking scheduler for work...\n",
      "DEBUG: Done\n",
      "DEBUG: There are no more tasks to run at this time\n",
      "INFO: Worker Worker(salt=094353003, workers=1, host=a9569b3a5016, username=root, pid=466) was stopped. Shutting down Keep-Alive thread\n",
      "INFO: \n",
      "===== Luigi Execution Summary =====\n",
      "\n",
      "Scheduled 1 tasks of which:\n",
      "* 1 failed scheduling:\n",
      "    - 1 Classify()\n",
      "\n",
      "Did not run any tasks\n",
      "This progress looks :( because there were tasks whose scheduling failed\n",
      "\n",
      "===== Luigi Execution Summary =====\n",
      "\n"
     ]
    },
    {
     "data": {
      "text/plain": [
       "False"
      ]
     },
     "execution_count": 133,
     "metadata": {},
     "output_type": "execute_result"
    }
   ],
   "source": [
    "luigi.build([Classify()], local_scheduler=True, no_lock=True)"
   ]
  },
  {
   "cell_type": "markdown",
   "metadata": {},
   "source": [
    "## Daily jobs and backfillings "
   ]
  },
  {
   "cell_type": "markdown",
   "metadata": {},
   "source": [
    "Now we can classify a single image that is identified by it's savedate. But Luigi comes even more handy when handling \"backfillings\". Using the *RangeDailyBase* Wrappertask we can process all 3 images with the pipeline we already built.\n",
    "\n",
    "```python\n",
    "RangeDailyBase(of=TASK, start=START_DATE, stop=END_DATE, days_back=ALLOWED_DAYS_INTO_PAST)\n",
    "```"
   ]
  },
  {
   "cell_type": "code",
   "execution_count": null,
   "metadata": {},
   "outputs": [],
   "source": [
    "luigi.build([], local_scheduler=True, no_lock=True)"
   ]
  }
 ],
 "metadata": {
  "kernelspec": {
   "display_name": "Python 3",
   "language": "python",
   "name": "python3"
  },
  "language_info": {
   "codemirror_mode": {
    "name": "ipython",
    "version": 3
   },
   "file_extension": ".py",
   "mimetype": "text/x-python",
   "name": "python",
   "nbconvert_exporter": "python",
   "pygments_lexer": "ipython3",
   "version": "3.6.8"
  }
 },
 "nbformat": 4,
 "nbformat_minor": 2
}
