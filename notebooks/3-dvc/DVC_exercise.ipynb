{
 "cells": [
  {
   "cell_type": "markdown",
   "metadata": {},
   "source": [
    "# Lightweight pipelines with DVC"
   ]
  },
  {
   "cell_type": "markdown",
   "metadata": {},
   "source": [
    "We will build a small pipeline with DVC in order to get started. The task is to classify images into either *lemons* or *bananas*.\n",
    "\n",
    "The pipelines consists of 2 python functions:\n",
    "\n",
    "1. preprocess(inputpath, outputpath), that processes images (convert to grayscale, resize to (100, 100))\n",
    "1. classify(inputpath, outputpath), that classifies images and write the results into a JSON-File\n",
    "\n",
    "Write the 2 functions and wrap a pipeline around them using DVC.\n",
    "\n",
    "The best approach is to create a python file and implement the functions. Googles \"fire\" is an easy approach to invoke preprocess and classify.\n",
    "\n",
    "Install fire:\n",
    "!pip install fire\n",
    "\n",
    "Use fire:\n",
    "\n",
    "```python\n",
    "import fire\n",
    "\n",
    "...\n",
    "...\n",
    "...\n",
    "\n",
    "if __name__ == '__main__':\n",
    "  fire.Fire()\n",
    "```\n",
    "\n",
    "Invoke function with fire:\n",
    "\n",
    "```bash\n",
    "python <your file>.py preprocess exercise-dataset-dvc/image.jpg output/preprocessed.jpg\n",
    "```\n",
    "\n",
    "You can use the \"%%sh\" shell-magic to run shell commands in a cell. "
   ]
  },
  {
   "cell_type": "markdown",
   "metadata": {},
   "source": [
    "## Testing the functions"
   ]
  },
  {
   "cell_type": "code",
   "execution_count": 6,
   "metadata": {},
   "outputs": [
    {
     "name": "stdout",
     "output_type": "stream",
     "text": [
      "Finished\n"
     ]
    }
   ],
   "source": [
    "%%sh \n",
    "python DVC_exercise.py preprocess exercise-dataset-dvc/image.jpg output-exercise/test-processed.jpg"
   ]
  },
  {
   "cell_type": "code",
   "execution_count": 15,
   "metadata": {},
   "outputs": [],
   "source": [
    "%%sh \n",
    "python DVC_exercise.py classify output-exercise/test-processed.jpg output-exercise/test-result.json\n",
    "#python DVC_exercise.py classify exercise-dataset-dvc/image.jpg output-exercise/test-result.json"
   ]
  },
  {
   "cell_type": "markdown",
   "metadata": {},
   "source": [
    "## Initialize DVC"
   ]
  },
  {
   "cell_type": "code",
   "execution_count": 16,
   "metadata": {},
   "outputs": [
    {
     "name": "stdout",
     "output_type": "stream",
     "text": [
      "\u001b[31m+---------------------------------------------------------------------+\n",
      "\u001b[39m\u001b[31m|\u001b[39m                                                                     \u001b[31m|\u001b[39m\n",
      "\u001b[31m|\u001b[39m        DVC has enabled anonymous aggregate usage analytics.         \u001b[31m|\u001b[39m\n",
      "\u001b[31m|\u001b[39m     Read the analytics documentation (and how to opt-out) here:     \u001b[31m|\u001b[39m\n",
      "\u001b[31m|\u001b[39m              \u001b[34mhttps://dvc.org/doc/user-guide/analytics\u001b[39m               \u001b[31m|\u001b[39m\n",
      "\u001b[31m|\u001b[39m                                                                     \u001b[31m|\u001b[39m\n",
      "\u001b[31m+---------------------------------------------------------------------+\n",
      "\u001b[39m\n",
      "\u001b[33mWhat's next?\u001b[39m\n",
      "\u001b[33m------------\u001b[39m\n",
      "- Check out the documentation: \u001b[34mhttps://dvc.org/doc\u001b[39m\n",
      "- Get help and share ideas: \u001b[34mhttps://dvc.org/chat\u001b[39m\n",
      "- Star us on GitHub: \u001b[34mhttps://github.com/iterative/dvc\u001b[39m\n",
      "\u001b[0m"
     ]
    }
   ],
   "source": [
    "!dvc init -f --no-scm"
   ]
  },
  {
   "cell_type": "markdown",
   "metadata": {},
   "source": [
    "## Invoke the functions"
   ]
  },
  {
   "cell_type": "code",
   "execution_count": 18,
   "metadata": {},
   "outputs": [
    {
     "name": "stdout",
     "output_type": "stream",
     "text": [
      "Running command:\n",
      "\tpython DVC_exercise.py preprocess exercise-dataset-dvc/image.jpg output-exercise/test-processed.jpg\n",
      "Finished\n",
      "Saving 'output-exercise/test-processed.jpg' to cache '.dvc/cache'.\n",
      "Saving information to 'test-processed.jpg.dvc'.\n",
      "\n",
      "To track the changes with git run:\n",
      "\n",
      "\tgit add test-processed.jpg.dvc\n"
     ]
    }
   ],
   "source": [
    "%%sh\n",
    "dvc run -d DVC_exercise.py \\\n",
    "-d exercise-dataset-dvc/image.jpg \\\n",
    "-o output-exercise/test-processed.jpg \\\n",
    "python DVC_exercise.py preprocess exercise-dataset-dvc/image.jpg output-exercise/test-processed.jpg"
   ]
  },
  {
   "cell_type": "code",
   "execution_count": 53,
   "metadata": {},
   "outputs": [
    {
     "name": "stdout",
     "output_type": "stream",
     "text": [
      "usage: dvc run [-h] [-q | -v] [-d DEPS] [-o OUTS] [-O OUTS_NO_CACHE]\n",
      "               [-m METRICS] [-M METRICS_NO_CACHE] [-f FILE] [-c CWD]\n",
      "               [--no-exec] [-y] [--overwrite-dvcfile] [--ignore-build-cache]\n",
      "               [--remove-outs] [--no-commit]\n",
      "               ...\n",
      "\n",
      "Generate a stage file from a given command and execute the command.\n",
      "\n",
      "positional arguments:\n",
      "  command               Command to execute.\n",
      "\n",
      "optional arguments:\n",
      "  -h, --help            show this help message and exit\n",
      "  -q, --quiet           Be quiet.\n",
      "  -v, --verbose         Be verbose.\n",
      "  -d DEPS, --deps DEPS  Declare dependencies for reproducible cmd.\n",
      "  -o OUTS, --outs OUTS  Declare output file or directory.\n",
      "  -O OUTS_NO_CACHE, --outs-no-cache OUTS_NO_CACHE\n",
      "                        Declare output file or directory (do not put into DVC\n",
      "                        cache).\n",
      "  -m METRICS, --metrics METRICS\n",
      "                        Declare output metric file or directory.\n",
      "  -M METRICS_NO_CACHE, --metrics-no-cache METRICS_NO_CACHE\n",
      "                        Declare output metric file or directory (do not put\n",
      "                        into DVC cache).\n",
      "  -f FILE, --file FILE  Specify name of the stage file. It should be either\n",
      "                        'Dvcfile' or have a '.dvc' suffix (e.g. 'prepare.dvc',\n",
      "                        'clean.dvc', etc) in order for dvc to be able to find\n",
      "                        it later. By default the first output basename + .dvc\n",
      "                        is used as a stage filename.\n",
      "  -c CWD, --cwd CWD     Directory within your repo to run your command and\n",
      "                        place stage file in.\n",
      "  --no-exec             Only create stage file without actually running it.\n",
      "  -y, --yes             (OBSOLETED, use --overwrite-dvcfile instead) Automatic\n",
      "                        'yes' answer to all prompts. E.g. when '.dvc' file\n",
      "                        exists and dvc asks if you want to overwrite it.\n",
      "  --overwrite-dvcfile   Overwrite existing dvc file without asking for\n",
      "                        confirmation.\n",
      "  --ignore-build-cache  Run this stage even if it has been already ran with\n",
      "                        the same command/dependencies/outputs/etc before.\n",
      "  --remove-outs         Remove outputs before running the command.\n",
      "  --no-commit           Don't put files/directories into cache.\n"
     ]
    }
   ],
   "source": [
    "%%sh\n",
    "dvc run -h"
   ]
  },
  {
   "cell_type": "markdown",
   "metadata": {},
   "source": [
    "## Look at the pipeline"
   ]
  },
  {
   "cell_type": "code",
   "execution_count": 50,
   "metadata": {},
   "outputs": [
    {
     "name": "stdout",
     "output_type": "stream",
     "text": [
      "usage: dvc pipeline [-h] [-q | -v] {show,list} ...\n",
      "\n",
      "Manage pipeline.\n",
      "\n",
      "positional arguments:\n",
      "  {show,list}    Use dvc pipeline CMD --help for command-specific help.\n",
      "    show         Show pipeline.\n",
      "    list         List pipelines.\n",
      "\n",
      "optional arguments:\n",
      "  -h, --help     show this help message and exit\n",
      "  -q, --quiet    Be quiet.\n",
      "  -v, --verbose  Be verbose.\n"
     ]
    }
   ],
   "source": [
    "%%sh\n",
    "dvc pipeline -h"
   ]
  }
 ],
 "metadata": {
  "kernelspec": {
   "display_name": "Python 3",
   "language": "python",
   "name": "python3"
  },
  "language_info": {
   "codemirror_mode": {
    "name": "ipython",
    "version": 3
   },
   "file_extension": ".py",
   "mimetype": "text/x-python",
   "name": "python",
   "nbconvert_exporter": "python",
   "pygments_lexer": "ipython3",
   "version": "3.6.8"
  }
 },
 "nbformat": 4,
 "nbformat_minor": 2
}
